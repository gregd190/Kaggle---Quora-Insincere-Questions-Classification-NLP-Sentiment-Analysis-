{
  "cells": [
    {
      "metadata": {
        "_uuid": "1e4dea34007c9baf019f0c982ede934501059338"
      },
      "cell_type": "markdown",
      "source": "## Quora Insincere Questions Classification - Part I - Naive Bayes\nThis notebook addresses the Quora Insincere Questions Classification Kaggle competition (https://www.kaggle.com/c/quora-insincere-questions-classification). In this, the first of 2 parts, a simple Naive Bayes classifier is used to detect insincere question submissions. As F1 score is the metric used to rank submissions in the competition, it is this metric that the classifier will be optimised for. \n\nFirstly, we'll load the necessary libraries and read the csv files into dataframes:"
    },
    {
      "metadata": {
        "_uuid": "8f2839f25d086af736a60e9eeb907d3b93b6e0e5",
        "_cell_guid": "b1076dfc-b9ad-4769-8c92-a6c4dae69d19",
        "trusted": true
      },
      "cell_type": "code",
      "source": "import numpy as np # linear algebra\nimport pandas as pd # data processing, CSV file I/O (e.g. pd.read_csv)\nimport sklearn\nimport matplotlib\nfrom matplotlib import pyplot as plt\n\nimport os\nprint(os.listdir(\"../input\"))\n\n# Any results you write to the current directory are saved as output.",
      "execution_count": 23,
      "outputs": [
        {
          "output_type": "stream",
          "text": "['embeddings', 'train.csv', 'sample_submission.csv', 'test.csv']\n",
          "name": "stdout"
        }
      ]
    },
    {
      "metadata": {
        "_cell_guid": "79c7e3d0-c299-4dcb-8224-4455121ee9b0",
        "collapsed": true,
        "_uuid": "d629ff2d2480ee46fbb7e2d37f6b5fab8052498a",
        "trusted": false
      },
      "cell_type": "markdown",
      "source": "Load in the training and test files:\n"
    },
    {
      "metadata": {
        "trusted": true,
        "_uuid": "5ea43241f235911f4320e08ef15f46d79b3265c8"
      },
      "cell_type": "code",
      "source": "#Load in the training and test sets\ntrainset = pd.read_csv('../input/train.csv')\ntestset = pd.read_csv('../input/test.csv')\n\n#Inspect that everything looks as it should:\nprint(trainset.head())\nprint(trainset.columns)\nprint(trainset.shape)\n\n#Check how balanced the training set is\nprint(trainset['target'].value_counts())\n",
      "execution_count": 24,
      "outputs": [
        {
          "output_type": "stream",
          "text": "                    qid  ...   target\n0  00002165364db923c7e6  ...        0\n1  000032939017120e6e44  ...        0\n2  0000412ca6e4628ce2cf  ...        0\n3  000042bf85aa498cd78e  ...        0\n4  0000455dfa3e01eae3af  ...        0\n\n[5 rows x 3 columns]\nIndex(['qid', 'question_text', 'target'], dtype='object')\n(1306122, 3)\n0    1225312\n1      80810\nName: target, dtype: int64\n",
          "name": "stdout"
        }
      ]
    },
    {
      "metadata": {
        "_uuid": "7bb94bb6979a92ef1dcb8dd82083e14c0037f234"
      },
      "cell_type": "markdown",
      "source": "Note there are around 15 'sincere' tagged questions for every sincere question, making the dataset somewhat unbalanced. "
    },
    {
      "metadata": {
        "trusted": true,
        "_uuid": "500011c585d312cd1475f3a815ccb6eef4b51948"
      },
      "cell_type": "code",
      "source": "import string\nimport re\nimport nltk\nfrom nltk.corpus import stopwords\nfrom nltk.stem.snowball import SnowballStemmer\ndef clean_text(text):\n    \n    ## Remove puncuation\n    text = text.translate(string.punctuation)\n    \n    ## Convert words to lower case and split them\n    text = text.lower().split()\n    \n    ## Remove stop words\n    stops = set(stopwords.words(\"english\"))\n    text = [w for w in text if not w in stops and len(w) >= 3]\n    \n    text = \" \".join(text)\n    ## Clean the text\n    text = re.sub(r\"[^A-Za-z0-9^,!.\\/'+-=]\", \" \", text)\n    text = re.sub(r\"what's\", \"what is \", text)\n    text = re.sub(r\"\\'s\", \" \", text)\n    text = re.sub(r\"\\'ve\", \" have \", text)\n    text = re.sub(r\"n't\", \" not \", text)\n    text = re.sub(r\"i'm\", \"i am \", text)\n    text = re.sub(r\"\\'re\", \" are \", text)\n    text = re.sub(r\"\\'d\", \" would \", text)\n    text = re.sub(r\"\\'ll\", \" will \", text)\n    text = re.sub(r\",\", \" \", text)\n    text = re.sub(r\"\\.\", \" \", text)\n    text = re.sub(r\"!\", \" ! \", text)\n    text = re.sub(r\"\\/\", \" \", text)\n    text = re.sub(r\"\\^\", \" ^ \", text)\n    text = re.sub(r\"\\+\", \" + \", text)\n    text = re.sub(r\"\\-\", \" - \", text)\n    text = re.sub(r\"\\=\", \" = \", text)\n    text = re.sub(r\"'\", \" \", text)\n    text = re.sub(r\"(\\d+)(k)\", r\"\\g<1>000\", text)\n    text = re.sub(r\":\", \" : \", text)\n    text = re.sub(r\" e g \", \" eg \", text)\n    text = re.sub(r\" b g \", \" bg \", text)\n    text = re.sub(r\" u s \", \" american \", text)\n    text = re.sub(r\"\\0s\", \"0\", text)\n    text = re.sub(r\" 9 11 \", \"911\", text)\n    text = re.sub(r\"e - mail\", \"email\", text)\n    text = re.sub(r\"j k\", \"jk\", text)\n    text = re.sub(r\"\\s{2,}\", \" \", text)\n    ## Stemming\n    text = text.split()\n    stemmer = SnowballStemmer('english')\n    stemmed_words = [stemmer.stem(word) for word in text]\n    text = \" \".join(stemmed_words)\n    return(text)\n\n# apply the above function to the train and test sets\ntrainset['cleaned_text'] = trainset['question_text'].map(lambda x: clean_text(x))\ntestset['cleaned_text'] = testset['question_text'].map(lambda x: clean_text(x))",
      "execution_count": 25,
      "outputs": []
    },
    {
      "metadata": {
        "_uuid": "f32d1ec3584f18eeed97916717909f65f1827e95"
      },
      "cell_type": "markdown",
      "source": "Check that the text cleaning has worked"
    },
    {
      "metadata": {
        "trusted": true,
        "_uuid": "74c5badf09f711b1d4951451554045fb34e0545f"
      },
      "cell_type": "code",
      "source": "print(trainset[['question_text', 'cleaned_text']][0:5])\nprint(testset[['question_text', 'cleaned_text']][0:5])",
      "execution_count": 26,
      "outputs": [
        {
          "output_type": "stream",
          "text": "                                       question_text                                     cleaned_text\n0  How did Quebec nationalists see their province...      quebec nationalist see provinc nation 1960s\n1  Do you have an adopted dog, how would you enco...        adopt dog would encourag peopl adopt shop\n2  Why does velocity affect time? Does velocity a...    veloc affect time veloc affect space geometri\n3  How did Otto von Guericke used the Magdeburg h...         otto von guerick use magdeburg hemispher\n4  Can I convert montra helicon D to a mountain b...  convert montra helicon mountain bike chang tyre\n                                       question_text                                       cleaned_text\n0  My voice range is A2-C5. My chest voice goes u...  voic rang a2 - c5 chest voic goe f4 includ sam...\n1           How much does a tutor earn in Bangalore?                           much tutor earn bangalor\n2  What are the best made pocket knives under $20...                   best made pocket knive 200 - 300\n3  Why would they add a hypothetical scenario tha...  would add hypothet scenario that s imposs happ...\n4   What is the dresscode for Techmahindra freshers?                      dresscod techmahindra fresher\n",
          "name": "stdout"
        }
      ]
    },
    {
      "metadata": {
        "trusted": true,
        "_uuid": "ef385f3228fa8ca16c26b7b367830bc1417456dd"
      },
      "cell_type": "code",
      "source": "#split the training data into training and validation sets\n\nfrom sklearn.model_selection import train_test_split\n\nX_train, X_val, y_train, y_val = train_test_split(trainset[['qid','question_text','cleaned_text']], trainset['target'], test_size=0.1)\n                                                        \n#Check sizes\nprint('X_train, X_val, y_train, y_val')\nprint(X_train.shape, X_val.shape, y_train.shape, y_val.shape)\n",
      "execution_count": 27,
      "outputs": [
        {
          "output_type": "stream",
          "text": "X_train, X_val, y_train, y_val\n(1175509, 3) (130613, 3) (1175509,) (130613,)\n",
          "name": "stdout"
        }
      ]
    },
    {
      "metadata": {
        "trusted": true,
        "_uuid": "fd3a6b65f94a6439025481714fd38b54a60de805"
      },
      "cell_type": "code",
      "source": "#Train a Vectorizor using all the words in the X_train dataset:\n\nfrom sklearn.feature_extraction.text import CountVectorizer\nvect = CountVectorizer(min_df=5).fit(X_train['cleaned_text'])\n\n#Create a feature from the Vectorised Transformations of the question text columns for\n#each of the train, validation and test sets:\n\nX_train_T = vect.transform(X_train['cleaned_text'])\nX_val_T = vect.transform(X_val['cleaned_text'])\ntestset_T = vect.transform(testset['cleaned_text'])\n",
      "execution_count": 28,
      "outputs": []
    },
    {
      "metadata": {
        "_uuid": "b0d1e245c1a56c6f557f1d5e567db73fdf87bb4b"
      },
      "cell_type": "markdown",
      "source": "We now have features only based on the presence of words in the dictionary. There might be some other features that can assist the model. Let's see if the length of the question text is related to the target value:"
    },
    {
      "metadata": {
        "trusted": true,
        "_uuid": "28088b3bdd0c0ba35ce195b3988d0500118cdf0f"
      },
      "cell_type": "code",
      "source": "#See if length is related to insincerity\ntrainset['length']=[len(s) for s in trainset['question_text']]\n\nprint(trainset.groupby('target')['length'].mean())",
      "execution_count": 29,
      "outputs": [
        {
          "output_type": "stream",
          "text": "target\n0    68.872758\n1    98.064163\nName: length, dtype: float64\n",
          "name": "stdout"
        }
      ]
    },
    {
      "metadata": {
        "_uuid": "e3a5719e5f1953134d3c7d69f1482c086eac50fe"
      },
      "cell_type": "markdown",
      "source": "Length is somewhat correlated with sincerity, so may be a useful feature. Let's add it to the feature list:"
    },
    {
      "metadata": {
        "trusted": true,
        "_uuid": "477b3406f8785b10829e7380229119ef0a614940"
      },
      "cell_type": "code",
      "source": "X_train_len = [len(s) for s in X_train['question_text'].values]\nX_val_len = [len(s) for s in X_val['question_text'].values]\ntestset_len= [len(s) for s in testset['question_text'].values]\n\nprint('X_train_T shape before:', np.shape(X_train_T))\n\n#A function to quickly add new features\ndef add_feature(X, feature_to_add):\n    from scipy.sparse import csr_matrix, hstack\n    return (hstack([X, csr_matrix(feature_to_add).T]))\n\nX_train_T = add_feature(X_train_T, X_train_len)\nX_val_T = add_feature(X_val_T, X_val_len)\ntestset_T = add_feature(testset_T, testset_len)\n\n#Check that adding a feature has added one column\n\nprint('X_train_T shape after:', np.shape(X_train_T))\n",
      "execution_count": 30,
      "outputs": [
        {
          "output_type": "stream",
          "text": "X_train_T shape before: (1175509, 33595)\nX_train_T shape after: (1175509, 33596)\n",
          "name": "stdout"
        }
      ]
    },
    {
      "metadata": {
        "trusted": true,
        "_uuid": "ad279df36efa34cc0663946d8f8f97e8bc122628"
      },
      "cell_type": "code",
      "source": "#Train a classifier\nfrom sklearn.naive_bayes import MultinomialNB\nfrom sklearn.model_selection import GridSearchCV\nfrom sklearn.linear_model import LogisticRegression\nfrom sklearn.svm import SVC\nfrom sklearn.metrics import roc_auc_score, recall_score, f1_score\n\ngrid = [{'alpha':[0.1,0.5,1,2,3,5],\n         'fit_prior':[True, False]}]\n\nNB_classifier = GridSearchCV(MultinomialNB(), cv=5, param_grid=grid, scoring='f1').fit(X_train_T, y_train)\nNB_preds = NB_classifier.predict(X_val_T)\n\nprint('Best Parameters:')\nprint(NB_classifier.best_estimator_.get_params())\n\nprint('Naive Bayes Recall =', recall_score(y_val, NB_preds))\nprint('Naive Bayes ROC AUC SCORE =', roc_auc_score(y_val, NB_preds))\nprint('Naive Bayes F1 SCORE =', f1_score(y_val, NB_preds))\n",
      "execution_count": 31,
      "outputs": [
        {
          "output_type": "stream",
          "text": "Best Parameters:\n{'alpha': 2, 'class_prior': None, 'fit_prior': True}\nNaive Bayes Recall = 0.6905468943330859\nNaive Bayes ROC AUC SCORE = 0.8177987672896139\nNaive Bayes F1 SCORE = 0.5472641694449892\n",
          "name": "stdout"
        }
      ]
    },
    {
      "metadata": {
        "trusted": true,
        "_uuid": "29331446a184d26f9e7c56c97fedcd05b2eaf61a"
      },
      "cell_type": "code",
      "source": "#Get the F1 score for each threshold in the range 0.01 to 0.99:\nf1_scores = []\nmaxf1 = 0 \n\nfor thresh in np.arange(0.01, 0.99, 0.01):\n    probs = NB_classifier.predict_proba(X_val_T)\n    preds = [1 if probs[a][1] > thresh else 0 for a in range(len(probs))]\n    f1 = f1_score(y_val, preds)\n    f1_scores.append(f1)\n    if f1 > maxf1: \n        maxf1 = f1 \n        best_thresh = thresh\n\nprint('The best threshold was ', best_thresh, 'with a maximum F1 score of ', maxf1)\n#Plot F1 score vs threshold value\nplt.plot(np.arange(0.01, 0.99, 0.01),f1_scores, label='F1 score by threshold')\nplt.ylabel('F1 Score')\nplt.xlabel('Threshold Value')\nplt.title('F1 Score vs Prediction Threshold')\nplt.show()",
      "execution_count": 32,
      "outputs": [
        {
          "output_type": "stream",
          "text": "The best threshold was  0.62 with a maximum F1 score of  0.5534678977882758\n",
          "name": "stdout"
        },
        {
          "output_type": "display_data",
          "data": {
            "text/plain": "<Figure size 432x288 with 1 Axes>",
            "image/png": "[encoded data removed]"
          },
          "metadata": {}
        }
      ]
    },
    {
      "metadata": {
        "_uuid": "ee447b64f17e0e4881014c6e1bc79b2bf1d73ab9"
      },
      "cell_type": "markdown",
      "source": "Run predictions on the test set and produce a datafile for submission:"
    },
    {
      "metadata": {
        "trusted": true,
        "_uuid": "32bb426122c89f75c5d82b99108ee9dd0c912c6e"
      },
      "cell_type": "code",
      "source": "\n#Get testset probabilities\ntest_probs = NB_classifier.predict_proba(testset_T)\n\n#Convert testset probabilities to predictions using the optimal threshold\ntest_preds = [1 if test_probs[a][1] > 0.62 else 0 for a in range(len(test_probs))]\n\n#Put predictions into the appropriate format for submission\nsubmission_table = pd.DataFrame(test_preds, testset['qid'])\nsubmission_table.columns=['prediction']\nsubmission_table.to_csv('submission.csv')",
      "execution_count": 33,
      "outputs": []
    },
    {
      "metadata": {
        "_uuid": "e42d5630ed650ee05eacb0098e48782d353ae6a6"
      },
      "cell_type": "markdown",
      "source": " ## Summary\nThe simple Naive Bayes classifier achieved an F1-score of 0.541 on the test set. This provides a base-line performance to which the performance of the Neural Network based solutions. "
    }
  ],
  "metadata": {
    "kernelspec": {
      "display_name": "Python 3",
      "language": "python",
      "name": "python3"
    },
    "language_info": {
      "name": "python",
      "version": "3.6.6",
      "mimetype": "text/x-python",
      "codemirror_mode": {
        "name": "ipython",
        "version": 3
      },
      "pygments_lexer": "ipython3",
      "nbconvert_exporter": "python",
      "file_extension": ".py"
    }
  },
  "nbformat": 4,
  "nbformat_minor": 1
}